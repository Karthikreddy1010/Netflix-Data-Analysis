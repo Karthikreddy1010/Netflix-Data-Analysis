{
 "cells": [
  {
   "cell_type": "markdown",
   "id": "07d5efb2",
   "metadata": {},
   "source": [
    "# Data Analysis Project\n",
    "\n",
    "## Netflix Data Analysis\n"
   ]
  },
  {
   "cell_type": "code",
   "execution_count": 1,
   "id": "53a614ed",
   "metadata": {},
   "outputs": [],
   "source": [
    "import pandas as pd\n",
    "import numpy as np\n",
    "import matplotlib.pyplot as plt\n",
    "import seaborn as sns\n",
    "import re\n",
    "import warnings"
   ]
  },
  {
   "cell_type": "code",
   "execution_count": 2,
   "id": "fb8b10d9",
   "metadata": {},
   "outputs": [
    {
     "data": {
      "text/plain": [
       "'1) Find out which types of genre has most movies and TV Shows\\n2) What is the distribution of content types (e.g., Movies vs. TV Shows) in the dataset?\\n3) Which countries contribute the most to the content library?\\n4) What is the average duration of movies, and how does it vary across different ratings?\\n5) What are the most common ratings, and how are they distributed across different types of content?\\n'"
      ]
     },
     "execution_count": 2,
     "metadata": {},
     "output_type": "execute_result"
    }
   ],
   "source": [
    "\"\"\"1) Find out which types of genre has most movies and TV Shows\n",
    "2) What is the distribution of content types (e.g., Movies vs. TV Shows) in the dataset?\n",
    "3) Which countries contribute the most to the content library?\n",
    "4) What is the average duration of movies, and how does it vary across different ratings?\n",
    "5) What are the most common ratings, and how are they distributed across different types of content?\n",
    "\"\"\""
   ]
  },
  {
   "cell_type": "code",
   "execution_count": 3,
   "id": "631ebe50",
   "metadata": {},
   "outputs": [
    {
     "data": {
      "text/html": [
       "<div>\n",
       "<style scoped>\n",
       "    .dataframe tbody tr th:only-of-type {\n",
       "        vertical-align: middle;\n",
       "    }\n",
       "\n",
       "    .dataframe tbody tr th {\n",
       "        vertical-align: top;\n",
       "    }\n",
       "\n",
       "    .dataframe thead th {\n",
       "        text-align: right;\n",
       "    }\n",
       "</style>\n",
       "<table border=\"1\" class=\"dataframe\">\n",
       "  <thead>\n",
       "    <tr style=\"text-align: right;\">\n",
       "      <th></th>\n",
       "      <th>show_id</th>\n",
       "      <th>type</th>\n",
       "      <th>title</th>\n",
       "      <th>director</th>\n",
       "      <th>cast</th>\n",
       "      <th>country</th>\n",
       "      <th>date_added</th>\n",
       "      <th>release_year</th>\n",
       "      <th>rating</th>\n",
       "      <th>duration</th>\n",
       "      <th>listed_in</th>\n",
       "      <th>description</th>\n",
       "    </tr>\n",
       "  </thead>\n",
       "  <tbody>\n",
       "    <tr>\n",
       "      <th>0</th>\n",
       "      <td>s1</td>\n",
       "      <td>Movie</td>\n",
       "      <td>Dick Johnson Is Dead</td>\n",
       "      <td>Kirsten Johnson</td>\n",
       "      <td>NaN</td>\n",
       "      <td>United States</td>\n",
       "      <td>September 25, 2021</td>\n",
       "      <td>2020</td>\n",
       "      <td>PG-13</td>\n",
       "      <td>90 min</td>\n",
       "      <td>Documentaries</td>\n",
       "      <td>As her father nears the end of his life, filmm...</td>\n",
       "    </tr>\n",
       "    <tr>\n",
       "      <th>1</th>\n",
       "      <td>s2</td>\n",
       "      <td>TV Show</td>\n",
       "      <td>Blood &amp; Water</td>\n",
       "      <td>NaN</td>\n",
       "      <td>Ama Qamata, Khosi Ngema, Gail Mabalane, Thaban...</td>\n",
       "      <td>South Africa</td>\n",
       "      <td>September 24, 2021</td>\n",
       "      <td>2021</td>\n",
       "      <td>TV-MA</td>\n",
       "      <td>2 Seasons</td>\n",
       "      <td>International TV Shows, TV Dramas, TV Mysteries</td>\n",
       "      <td>After crossing paths at a party, a Cape Town t...</td>\n",
       "    </tr>\n",
       "    <tr>\n",
       "      <th>2</th>\n",
       "      <td>s3</td>\n",
       "      <td>TV Show</td>\n",
       "      <td>Ganglands</td>\n",
       "      <td>Julien Leclercq</td>\n",
       "      <td>Sami Bouajila, Tracy Gotoas, Samuel Jouy, Nabi...</td>\n",
       "      <td>NaN</td>\n",
       "      <td>September 24, 2021</td>\n",
       "      <td>2021</td>\n",
       "      <td>TV-MA</td>\n",
       "      <td>1 Season</td>\n",
       "      <td>Crime TV Shows, International TV Shows, TV Act...</td>\n",
       "      <td>To protect his family from a powerful drug lor...</td>\n",
       "    </tr>\n",
       "    <tr>\n",
       "      <th>3</th>\n",
       "      <td>s4</td>\n",
       "      <td>TV Show</td>\n",
       "      <td>Jailbirds New Orleans</td>\n",
       "      <td>NaN</td>\n",
       "      <td>NaN</td>\n",
       "      <td>NaN</td>\n",
       "      <td>September 24, 2021</td>\n",
       "      <td>2021</td>\n",
       "      <td>TV-MA</td>\n",
       "      <td>1 Season</td>\n",
       "      <td>Docuseries, Reality TV</td>\n",
       "      <td>Feuds, flirtations and toilet talk go down amo...</td>\n",
       "    </tr>\n",
       "    <tr>\n",
       "      <th>4</th>\n",
       "      <td>s5</td>\n",
       "      <td>TV Show</td>\n",
       "      <td>Kota Factory</td>\n",
       "      <td>NaN</td>\n",
       "      <td>Mayur More, Jitendra Kumar, Ranjan Raj, Alam K...</td>\n",
       "      <td>India</td>\n",
       "      <td>September 24, 2021</td>\n",
       "      <td>2021</td>\n",
       "      <td>TV-MA</td>\n",
       "      <td>2 Seasons</td>\n",
       "      <td>International TV Shows, Romantic TV Shows, TV ...</td>\n",
       "      <td>In a city of coaching centers known to train I...</td>\n",
       "    </tr>\n",
       "  </tbody>\n",
       "</table>\n",
       "</div>"
      ],
      "text/plain": [
       "  show_id     type                  title         director  \\\n",
       "0      s1    Movie   Dick Johnson Is Dead  Kirsten Johnson   \n",
       "1      s2  TV Show          Blood & Water              NaN   \n",
       "2      s3  TV Show              Ganglands  Julien Leclercq   \n",
       "3      s4  TV Show  Jailbirds New Orleans              NaN   \n",
       "4      s5  TV Show           Kota Factory              NaN   \n",
       "\n",
       "                                                cast        country  \\\n",
       "0                                                NaN  United States   \n",
       "1  Ama Qamata, Khosi Ngema, Gail Mabalane, Thaban...   South Africa   \n",
       "2  Sami Bouajila, Tracy Gotoas, Samuel Jouy, Nabi...            NaN   \n",
       "3                                                NaN            NaN   \n",
       "4  Mayur More, Jitendra Kumar, Ranjan Raj, Alam K...          India   \n",
       "\n",
       "           date_added  release_year rating   duration  \\\n",
       "0  September 25, 2021          2020  PG-13     90 min   \n",
       "1  September 24, 2021          2021  TV-MA  2 Seasons   \n",
       "2  September 24, 2021          2021  TV-MA   1 Season   \n",
       "3  September 24, 2021          2021  TV-MA   1 Season   \n",
       "4  September 24, 2021          2021  TV-MA  2 Seasons   \n",
       "\n",
       "                                           listed_in  \\\n",
       "0                                      Documentaries   \n",
       "1    International TV Shows, TV Dramas, TV Mysteries   \n",
       "2  Crime TV Shows, International TV Shows, TV Act...   \n",
       "3                             Docuseries, Reality TV   \n",
       "4  International TV Shows, Romantic TV Shows, TV ...   \n",
       "\n",
       "                                         description  \n",
       "0  As her father nears the end of his life, filmm...  \n",
       "1  After crossing paths at a party, a Cape Town t...  \n",
       "2  To protect his family from a powerful drug lor...  \n",
       "3  Feuds, flirtations and toilet talk go down amo...  \n",
       "4  In a city of coaching centers known to train I...  "
      ]
     },
     "execution_count": 3,
     "metadata": {},
     "output_type": "execute_result"
    }
   ],
   "source": [
    "data=pd.read_csv(\"netflix_movies.csv\")\n",
    "data.head()"
   ]
  },
  {
   "cell_type": "code",
   "execution_count": 4,
   "id": "02480ac1",
   "metadata": {},
   "outputs": [
    {
     "data": {
      "text/html": [
       "<div>\n",
       "<style scoped>\n",
       "    .dataframe tbody tr th:only-of-type {\n",
       "        vertical-align: middle;\n",
       "    }\n",
       "\n",
       "    .dataframe tbody tr th {\n",
       "        vertical-align: top;\n",
       "    }\n",
       "\n",
       "    .dataframe thead th {\n",
       "        text-align: right;\n",
       "    }\n",
       "</style>\n",
       "<table border=\"1\" class=\"dataframe\">\n",
       "  <thead>\n",
       "    <tr style=\"text-align: right;\">\n",
       "      <th></th>\n",
       "      <th>release_year</th>\n",
       "    </tr>\n",
       "  </thead>\n",
       "  <tbody>\n",
       "    <tr>\n",
       "      <th>count</th>\n",
       "      <td>8807.000000</td>\n",
       "    </tr>\n",
       "    <tr>\n",
       "      <th>mean</th>\n",
       "      <td>2014.180198</td>\n",
       "    </tr>\n",
       "    <tr>\n",
       "      <th>std</th>\n",
       "      <td>8.819312</td>\n",
       "    </tr>\n",
       "    <tr>\n",
       "      <th>min</th>\n",
       "      <td>1925.000000</td>\n",
       "    </tr>\n",
       "    <tr>\n",
       "      <th>25%</th>\n",
       "      <td>2013.000000</td>\n",
       "    </tr>\n",
       "    <tr>\n",
       "      <th>50%</th>\n",
       "      <td>2017.000000</td>\n",
       "    </tr>\n",
       "    <tr>\n",
       "      <th>75%</th>\n",
       "      <td>2019.000000</td>\n",
       "    </tr>\n",
       "    <tr>\n",
       "      <th>max</th>\n",
       "      <td>2021.000000</td>\n",
       "    </tr>\n",
       "  </tbody>\n",
       "</table>\n",
       "</div>"
      ],
      "text/plain": [
       "       release_year\n",
       "count   8807.000000\n",
       "mean    2014.180198\n",
       "std        8.819312\n",
       "min     1925.000000\n",
       "25%     2013.000000\n",
       "50%     2017.000000\n",
       "75%     2019.000000\n",
       "max     2021.000000"
      ]
     },
     "execution_count": 4,
     "metadata": {},
     "output_type": "execute_result"
    }
   ],
   "source": [
    "data.describe()"
   ]
  },
  {
   "cell_type": "code",
   "execution_count": 5,
   "id": "eb418434",
   "metadata": {},
   "outputs": [
    {
     "name": "stdout",
     "output_type": "stream",
     "text": [
      "<class 'pandas.core.frame.DataFrame'>\n",
      "RangeIndex: 8807 entries, 0 to 8806\n",
      "Data columns (total 12 columns):\n",
      " #   Column        Non-Null Count  Dtype \n",
      "---  ------        --------------  ----- \n",
      " 0   show_id       8807 non-null   object\n",
      " 1   type          8807 non-null   object\n",
      " 2   title         8807 non-null   object\n",
      " 3   director      6173 non-null   object\n",
      " 4   cast          7982 non-null   object\n",
      " 5   country       7976 non-null   object\n",
      " 6   date_added    8797 non-null   object\n",
      " 7   release_year  8807 non-null   int64 \n",
      " 8   rating        8803 non-null   object\n",
      " 9   duration      8804 non-null   object\n",
      " 10  listed_in     8807 non-null   object\n",
      " 11  description   8807 non-null   object\n",
      "dtypes: int64(1), object(11)\n",
      "memory usage: 825.8+ KB\n"
     ]
    }
   ],
   "source": [
    "data.info()"
   ]
  },
  {
   "cell_type": "code",
   "execution_count": 6,
   "id": "14b44ca4",
   "metadata": {},
   "outputs": [
    {
     "name": "stdout",
     "output_type": "stream",
     "text": [
      "total rows in a dataset: 8807\n"
     ]
    }
   ],
   "source": [
    "print(\"total rows in a dataset:\",len(data))"
   ]
  },
  {
   "cell_type": "code",
   "execution_count": 7,
   "id": "ae4d35c5",
   "metadata": {},
   "outputs": [
    {
     "name": "stdout",
     "output_type": "stream",
     "text": [
      "After removing duplicates values: 8807\n"
     ]
    }
   ],
   "source": [
    "data=data.drop_duplicates()\n",
    "print(\"After removing duplicates values:\",len(data))"
   ]
  },
  {
   "cell_type": "code",
   "execution_count": 8,
   "id": "f919388a",
   "metadata": {},
   "outputs": [
    {
     "data": {
      "text/plain": [
       "Index(['show_id', 'type', 'title', 'director', 'cast', 'country', 'date_added',\n",
       "       'release_year', 'rating', 'duration', 'listed_in', 'description'],\n",
       "      dtype='object')"
      ]
     },
     "execution_count": 8,
     "metadata": {},
     "output_type": "execute_result"
    }
   ],
   "source": [
    "data.columns"
   ]
  },
  {
   "cell_type": "code",
   "execution_count": 9,
   "id": "24f7c655",
   "metadata": {},
   "outputs": [
    {
     "data": {
      "text/plain": [
       "show_id            0\n",
       "type               0\n",
       "title              0\n",
       "director        2634\n",
       "cast             825\n",
       "country          831\n",
       "date_added        10\n",
       "release_year       0\n",
       "rating             4\n",
       "duration           3\n",
       "listed_in          0\n",
       "description        0\n",
       "dtype: int64"
      ]
     },
     "execution_count": 9,
     "metadata": {},
     "output_type": "execute_result"
    }
   ],
   "source": [
    "data.isnull().sum()"
   ]
  },
  {
   "cell_type": "markdown",
   "id": "b9c121a7",
   "metadata": {},
   "source": [
    "### Replaced null values by mode value"
   ]
  },
  {
   "cell_type": "code",
   "execution_count": 10,
   "id": "c974b8b2",
   "metadata": {},
   "outputs": [],
   "source": [
    "# Function to replace null values with mode\n",
    "def replace_null(data, col):\n",
    "    mode_value = data[col].mode()[0] \n",
    "    data[col] = data[col].fillna(mode_value)  \n",
    "\n",
    "\n",
    "columns_to_replace = [\"director\", \"cast\", \"country\", \"date_added\", \"duration\", \"rating\"]\n",
    "for col in columns_to_replace:\n",
    "    replace_null(data, col)"
   ]
  },
  {
   "cell_type": "code",
   "execution_count": 11,
   "id": "0ea73e75",
   "metadata": {},
   "outputs": [
    {
     "data": {
      "text/plain": [
       "show_id         0\n",
       "type            0\n",
       "title           0\n",
       "director        0\n",
       "cast            0\n",
       "country         0\n",
       "date_added      0\n",
       "release_year    0\n",
       "rating          0\n",
       "duration        0\n",
       "listed_in       0\n",
       "description     0\n",
       "dtype: int64"
      ]
     },
     "execution_count": 11,
     "metadata": {},
     "output_type": "execute_result"
    }
   ],
   "source": [
    "data.isnull().sum()"
   ]
  },
  {
   "cell_type": "code",
   "execution_count": 12,
   "id": "a5dbefcf",
   "metadata": {},
   "outputs": [],
   "source": [
    "data['date_added'] = pd.to_datetime(data['date_added'],format='mixed', errors='coerce')"
   ]
  },
  {
   "cell_type": "code",
   "execution_count": 13,
   "id": "64c0a31d",
   "metadata": {},
   "outputs": [
    {
     "data": {
      "text/plain": [
       "array(['PG-13', 'TV-MA', 'PG', 'TV-14', 'TV-PG', 'TV-Y', 'TV-Y7', 'R',\n",
       "       'TV-G', 'G', 'NC-17', '74 min', '84 min', '66 min', 'NR',\n",
       "       'TV-Y7-FV', 'UR'], dtype=object)"
      ]
     },
     "execution_count": 13,
     "metadata": {},
     "output_type": "execute_result"
    }
   ],
   "source": [
    "data['rating'].unique()"
   ]
  },
  {
   "cell_type": "markdown",
   "id": "e7e620ba",
   "metadata": {},
   "source": [
    "# 1) Find out which types of genre has most movies and TV Shows"
   ]
  },
  {
   "cell_type": "code",
   "execution_count": 14,
   "id": "d14b4a28",
   "metadata": {},
   "outputs": [
    {
     "data": {
      "text/html": [
       "<div>\n",
       "<style scoped>\n",
       "    .dataframe tbody tr th:only-of-type {\n",
       "        vertical-align: middle;\n",
       "    }\n",
       "\n",
       "    .dataframe tbody tr th {\n",
       "        vertical-align: top;\n",
       "    }\n",
       "\n",
       "    .dataframe thead th {\n",
       "        text-align: right;\n",
       "    }\n",
       "</style>\n",
       "<table border=\"1\" class=\"dataframe\">\n",
       "  <thead>\n",
       "    <tr style=\"text-align: right;\">\n",
       "      <th></th>\n",
       "      <th>show_id</th>\n",
       "      <th>type</th>\n",
       "      <th>title</th>\n",
       "      <th>director</th>\n",
       "      <th>cast</th>\n",
       "      <th>country</th>\n",
       "      <th>date_added</th>\n",
       "      <th>release_year</th>\n",
       "      <th>rating</th>\n",
       "      <th>duration</th>\n",
       "      <th>listed_in</th>\n",
       "      <th>description</th>\n",
       "    </tr>\n",
       "  </thead>\n",
       "  <tbody>\n",
       "    <tr>\n",
       "      <th>0</th>\n",
       "      <td>s1</td>\n",
       "      <td>Movie</td>\n",
       "      <td>Dick Johnson Is Dead</td>\n",
       "      <td>Kirsten Johnson</td>\n",
       "      <td>David Attenborough</td>\n",
       "      <td>United States</td>\n",
       "      <td>2021-09-25</td>\n",
       "      <td>2020</td>\n",
       "      <td>PG-13</td>\n",
       "      <td>90 min</td>\n",
       "      <td>Documentaries</td>\n",
       "      <td>As her father nears the end of his life, filmm...</td>\n",
       "    </tr>\n",
       "  </tbody>\n",
       "</table>\n",
       "</div>"
      ],
      "text/plain": [
       "  show_id   type                 title         director                cast  \\\n",
       "0      s1  Movie  Dick Johnson Is Dead  Kirsten Johnson  David Attenborough   \n",
       "\n",
       "         country date_added  release_year rating duration      listed_in  \\\n",
       "0  United States 2021-09-25          2020  PG-13   90 min  Documentaries   \n",
       "\n",
       "                                         description  \n",
       "0  As her father nears the end of his life, filmm...  "
      ]
     },
     "execution_count": 14,
     "metadata": {},
     "output_type": "execute_result"
    }
   ],
   "source": [
    "data.head(1)"
   ]
  },
  {
   "cell_type": "code",
   "execution_count": 14,
   "id": "156f3e7c",
   "metadata": {},
   "outputs": [
    {
     "data": {
      "text/plain": [
       "type\n",
       "Movie      6131\n",
       "TV Show    2676\n",
       "Name: count, dtype: int64"
      ]
     },
     "execution_count": 14,
     "metadata": {},
     "output_type": "execute_result"
    }
   ],
   "source": [
    "data['type'].value_counts()"
   ]
  },
  {
   "cell_type": "code",
   "execution_count": 15,
   "id": "db21a63c",
   "metadata": {},
   "outputs": [
    {
     "data": {
      "text/plain": [
       "listed_in\n",
       "Dramas, International Movies                          362\n",
       "Documentaries                                         359\n",
       "Stand-Up Comedy                                       334\n",
       "Comedies, Dramas, International Movies                274\n",
       "Dramas, Independent Movies, International Movies      252\n",
       "                                                     ... \n",
       "Kids' TV, TV Action & Adventure, TV Dramas              1\n",
       "TV Comedies, TV Dramas, TV Horror                       1\n",
       "Children & Family Movies, Comedies, LGBTQ Movies        1\n",
       "Kids' TV, Spanish-Language TV Shows, Teen TV Shows      1\n",
       "Cult Movies, Dramas, Thrillers                          1\n",
       "Name: count, Length: 514, dtype: int64"
      ]
     },
     "execution_count": 15,
     "metadata": {},
     "output_type": "execute_result"
    }
   ],
   "source": [
    "data['listed_in'].value_counts()"
   ]
  },
  {
   "cell_type": "code",
   "execution_count": 16,
   "id": "a157c46a",
   "metadata": {},
   "outputs": [
    {
     "data": {
      "text/plain": [
       "array(['Documentaries', 'International TV Shows, TV Dramas, TV Mysteries',\n",
       "       'Crime TV Shows, International TV Shows, TV Action & Adventure',\n",
       "       'Docuseries, Reality TV',\n",
       "       'International TV Shows, Romantic TV Shows, TV Comedies',\n",
       "       'TV Dramas, TV Horror, TV Mysteries', 'Children & Family Movies',\n",
       "       'Dramas, Independent Movies, International Movies',\n",
       "       'British TV Shows, Reality TV', 'Comedies, Dramas',\n",
       "       'Crime TV Shows, Docuseries, International TV Shows',\n",
       "       'Dramas, International Movies',\n",
       "       'Children & Family Movies, Comedies',\n",
       "       'British TV Shows, Crime TV Shows, Docuseries',\n",
       "       'TV Comedies, TV Dramas', 'Documentaries, International Movies',\n",
       "       'Crime TV Shows, Spanish-Language TV Shows, TV Dramas',\n",
       "       'Thrillers',\n",
       "       'International TV Shows, Spanish-Language TV Shows, TV Action & Adventure',\n",
       "       'International TV Shows, TV Action & Adventure, TV Dramas',\n",
       "       'Comedies, International Movies',\n",
       "       'Comedies, International Movies, Romantic Movies',\n",
       "       'Docuseries, International TV Shows, Reality TV',\n",
       "       'Comedies, International Movies, Music & Musicals', 'Comedies',\n",
       "       'Horror Movies, Sci-Fi & Fantasy', 'TV Comedies',\n",
       "       'British TV Shows, International TV Shows, TV Comedies',\n",
       "       'International TV Shows, TV Dramas, TV Thrillers', \"Kids' TV\",\n",
       "       'Dramas, International Movies, Thrillers',\n",
       "       'Action & Adventure, Dramas, International Movies',\n",
       "       \"Kids' TV, TV Comedies\", 'Action & Adventure, Dramas',\n",
       "       \"Kids' TV, TV Sci-Fi & Fantasy\",\n",
       "       'Action & Adventure, Classic Movies, Dramas',\n",
       "       'Dramas, Horror Movies, Thrillers',\n",
       "       'Action & Adventure, Horror Movies, Thrillers',\n",
       "       'Action & Adventure', 'Dramas, Thrillers',\n",
       "       'International TV Shows, TV Dramas',\n",
       "       'International TV Shows, TV Dramas, TV Sci-Fi & Fantasy',\n",
       "       'Action & Adventure, Anime Features, International Movies',\n",
       "       'Reality TV', 'Docuseries, International TV Shows',\n",
       "       'Documentaries, International Movies, Sports Movies',\n",
       "       'International TV Shows, Reality TV, Romantic TV Shows',\n",
       "       'British TV Shows, Docuseries, International TV Shows',\n",
       "       'Anime Series, International TV Shows',\n",
       "       'Comedies, Dramas, International Movies',\n",
       "       'Crime TV Shows, TV Comedies, TV Dramas',\n",
       "       'Action & Adventure, Comedies, Dramas', \"Anime Series, Kids' TV\",\n",
       "       'International Movies, Thrillers', \"Kids' TV, Korean TV Shows\",\n",
       "       'Documentaries, Sports Movies', 'Sci-Fi & Fantasy, Thrillers',\n",
       "       'Dramas, International Movies, Romantic Movies',\n",
       "       'Documentaries, Music & Musicals',\n",
       "       \"Kids' TV, TV Comedies, TV Sci-Fi & Fantasy\",\n",
       "       \"British TV Shows, Kids' TV\", 'Docuseries, Science & Nature TV',\n",
       "       'Children & Family Movies, Dramas',\n",
       "       \"Kids' TV, TV Dramas, Teen TV Shows\",\n",
       "       'Crime TV Shows, International TV Shows, Spanish-Language TV Shows',\n",
       "       'Docuseries, International TV Shows, Spanish-Language TV Shows',\n",
       "       'Dramas', 'Comedies, Romantic Movies', 'Dramas, Romantic Movies',\n",
       "       'Comedies, Dramas, Independent Movies',\n",
       "       'Crime TV Shows, TV Action & Adventure, TV Comedies',\n",
       "       'Children & Family Movies, Music & Musicals',\n",
       "       'Action & Adventure, Classic Movies, Cult Movies',\n",
       "       'International TV Shows, TV Action & Adventure, TV Comedies',\n",
       "       'Action & Adventure, Sci-Fi & Fantasy',\n",
       "       'Action & Adventure, Comedies', 'Classic Movies, Comedies, Dramas',\n",
       "       'Comedies, Cult Movies', 'Comedies, Cult Movies, Music & Musicals',\n",
       "       'Comedies, Music & Musicals', 'TV Shows',\n",
       "       'Action & Adventure, International Movies',\n",
       "       'Anime Series, International TV Shows, Teen TV Shows',\n",
       "       'Action & Adventure, Children & Family Movies, Cult Movies',\n",
       "       'Comedies, Dramas, Romantic Movies',\n",
       "       'Comedies, Cult Movies, Sci-Fi & Fantasy',\n",
       "       'Classic Movies, Dramas',\n",
       "       'Action & Adventure, Children & Family Movies, Comedies',\n",
       "       'Dramas, Faith & Spirituality', 'Documentaries, LGBTQ Movies',\n",
       "       'Action & Adventure, Classic Movies', 'Docuseries',\n",
       "       'International TV Shows, TV Comedies',\n",
       "       'Dramas, Independent Movies',\n",
       "       'Action & Adventure, Comedies, International Movies',\n",
       "       'International TV Shows, Spanish-Language TV Shows, TV Dramas',\n",
       "       'Crime TV Shows, International TV Shows, TV Dramas',\n",
       "       'Action & Adventure, Horror Movies, International Movies',\n",
       "       'Comedies, International Movies, Sci-Fi & Fantasy',\n",
       "       'Action & Adventure, International Movies, Music & Musicals',\n",
       "       'Dramas, International Movies, Music & Musicals',\n",
       "       'Horror Movies, International Movies', 'Reality TV, Teen TV Shows',\n",
       "       'Crime TV Shows, TV Dramas, TV Mysteries',\n",
       "       'International TV Shows, Reality TV',\n",
       "       'International TV Shows, TV Comedies, TV Dramas',\n",
       "       'Dramas, Independent Movies, Romantic Movies', 'Horror Movies',\n",
       "       'Documentaries, LGBTQ Movies, Sports Movies',\n",
       "       'Horror Movies, International Movies, Thrillers',\n",
       "       'Action & Adventure, Anime Features',\n",
       "       'TV Dramas, TV Mysteries, TV Sci-Fi & Fantasy',\n",
       "       'International TV Shows, Spanish-Language TV Shows, TV Comedies',\n",
       "       'Children & Family Movies, Comedies, Music & Musicals',\n",
       "       'Comedies, Independent Movies',\n",
       "       'Anime Series, International TV Shows, Romantic TV Shows',\n",
       "       'Classic Movies, Dramas, Independent Movies',\n",
       "       'International TV Shows, Romantic TV Shows, Spanish-Language TV Shows',\n",
       "       'International TV Shows, TV Dramas, Teen TV Shows',\n",
       "       'Stand-Up Comedy',\n",
       "       'Action & Adventure, Anime Features, Children & Family Movies',\n",
       "       'International TV Shows, Romantic TV Shows, TV Dramas',\n",
       "       'International Movies, Music & Musicals',\n",
       "       'TV Action & Adventure, TV Dramas, TV Mysteries',\n",
       "       'Horror Movies, Independent Movies, International Movies',\n",
       "       'Comedies, Cult Movies, International Movies',\n",
       "       'Classic Movies, Dramas, International Movies', 'Movies',\n",
       "       'Crime TV Shows, Docuseries',\n",
       "       'Children & Family Movies, Comedies, Sci-Fi & Fantasy',\n",
       "       'Anime Series, International TV Shows, TV Thrillers',\n",
       "       'Action & Adventure, Horror Movies, Sci-Fi & Fantasy',\n",
       "       'Classic Movies, Comedies, Cult Movies',\n",
       "       'TV Dramas, Teen TV Shows',\n",
       "       'Action & Adventure, Sci-Fi & Fantasy, Thrillers',\n",
       "       'Children & Family Movies, Comedies, Dramas',\n",
       "       'Dramas, Sports Movies',\n",
       "       'Action & Adventure, Dramas, Sci-Fi & Fantasy',\n",
       "       'Action & Adventure, Comedies, Cult Movies',\n",
       "       'Dramas, Independent Movies, Thrillers',\n",
       "       'TV Dramas, TV Sci-Fi & Fantasy',\n",
       "       'Action & Adventure, International Movies, Thrillers',\n",
       "       'British TV Shows, International TV Shows, Reality TV',\n",
       "       'TV Action & Adventure, TV Dramas, Teen TV Shows', 'Anime Series',\n",
       "       'Crime TV Shows, TV Action & Adventure, TV Sci-Fi & Fantasy',\n",
       "       'Crime TV Shows, International TV Shows, TV Comedies',\n",
       "       'Stand-Up Comedy & Talk Shows, TV Comedies',\n",
       "       'Classic & Cult TV, TV Action & Adventure, TV Dramas',\n",
       "       'Children & Family Movies, Sports Movies',\n",
       "       'TV Action & Adventure, TV Sci-Fi & Fantasy',\n",
       "       'Anime Series, Stand-Up Comedy & Talk Shows', 'TV Dramas',\n",
       "       'Anime Features, Children & Family Movies, International Movies',\n",
       "       'Classic & Cult TV, Crime TV Shows, International TV Shows',\n",
       "       'Crime TV Shows, International TV Shows, Romantic TV Shows',\n",
       "       'Horror Movies, LGBTQ Movies',\n",
       "       'Action & Adventure, Dramas, Romantic Movies',\n",
       "       'Documentaries, International Movies, Music & Musicals',\n",
       "       'TV Comedies, TV Dramas, Teen TV Shows',\n",
       "       'Children & Family Movies, Comedies, Sports Movies',\n",
       "       'Children & Family Movies, Dramas, International Movies',\n",
       "       'Comedies, Documentaries, International Movies',\n",
       "       'Romantic TV Shows, TV Dramas',\n",
       "       'Anime Series, TV Horror, TV Thrillers',\n",
       "       'International Movies, Romantic Movies',\n",
       "       'TV Action & Adventure, TV Dramas, TV Sci-Fi & Fantasy',\n",
       "       \"Kids' TV, Korean TV Shows, TV Comedies\",\n",
       "       'British TV Shows, Crime TV Shows, International TV Shows',\n",
       "       'Crime TV Shows, TV Horror, TV Mysteries',\n",
       "       'Docuseries, International TV Shows, Science & Nature TV',\n",
       "       'British TV Shows, International TV Shows, TV Dramas',\n",
       "       \"Kids' TV, TV Action & Adventure, TV Sci-Fi & Fantasy\",\n",
       "       'International Movies, Romantic Movies, Thrillers',\n",
       "       'Action & Adventure, Cult Movies, International Movies',\n",
       "       'Action & Adventure, Comedies, Sci-Fi & Fantasy',\n",
       "       \"International TV Shows, Kids' TV, TV Mysteries\",\n",
       "       'Action & Adventure, Thrillers',\n",
       "       'Dramas, Faith & Spirituality, International Movies',\n",
       "       'Action & Adventure, Classic Movies, Comedies',\n",
       "       'Action & Adventure, Comedies, Sports Movies',\n",
       "       'Action & Adventure, Children & Family Movies, Classic Movies',\n",
       "       'Action & Adventure, Children & Family Movies, Dramas',\n",
       "       'Horror Movies, Thrillers', 'Action & Adventure, Romantic Movies',\n",
       "       'Dramas, Romantic Movies, Sci-Fi & Fantasy',\n",
       "       'Dramas, Music & Musicals, Romantic Movies',\n",
       "       'Anime Series, Crime TV Shows, International TV Shows',\n",
       "       'Reality TV, Romantic TV Shows',\n",
       "       'International Movies, Music & Musicals, Romantic Movies',\n",
       "       'Reality TV, TV Action & Adventure, TV Mysteries',\n",
       "       'Crime TV Shows, TV Dramas',\n",
       "       'International TV Shows, Reality TV, Spanish-Language TV Shows',\n",
       "       'Crime TV Shows, TV Dramas, TV Thrillers',\n",
       "       'British TV Shows, Docuseries',\n",
       "       'International TV Shows, Korean TV Shows, TV Comedies',\n",
       "       'Action & Adventure, Anime Features, Classic Movies',\n",
       "       'TV Action & Adventure, TV Dramas, TV Horror',\n",
       "       'Crime TV Shows, International TV Shows, TV Thrillers',\n",
       "       'Anime Series, Crime TV Shows, TV Horror',\n",
       "       'Anime Features, Documentaries', 'Comedies, Horror Movies',\n",
       "       'International TV Shows, Spanish-Language TV Shows, Stand-Up Comedy & Talk Shows',\n",
       "       'Children & Family Movies, Documentaries, International Movies',\n",
       "       'Romantic TV Shows, TV Comedies, TV Dramas',\n",
       "       'Dramas, Faith & Spirituality, Romantic Movies',\n",
       "       'Dramas, Independent Movies, LGBTQ Movies',\n",
       "       'Comedies, Independent Movies, LGBTQ Movies',\n",
       "       'Action & Adventure, Cult Movies, Sci-Fi & Fantasy',\n",
       "       'Cult Movies, Horror Movies',\n",
       "       'Action & Adventure, Dramas, Sports Movies',\n",
       "       'Anime Series, Romantic TV Shows, Teen TV Shows',\n",
       "       'Dramas, International Movies, LGBTQ Movies',\n",
       "       'Dramas, Romantic Movies, Thrillers',\n",
       "       'Children & Family Movies, Dramas, Faith & Spirituality',\n",
       "       'Dramas, International Movies, Sports Movies',\n",
       "       'Action & Adventure, Horror Movies',\n",
       "       'Documentaries, International Movies, LGBTQ Movies',\n",
       "       'Dramas, Independent Movies, Sci-Fi & Fantasy',\n",
       "       'Comedies, Independent Movies, International Movies',\n",
       "       'Reality TV, TV Horror, TV Thrillers',\n",
       "       'TV Action & Adventure, TV Horror, TV Sci-Fi & Fantasy',\n",
       "       'International TV Shows, TV Horror, TV Sci-Fi & Fantasy',\n",
       "       'Independent Movies, International Movies, Thrillers',\n",
       "       'Independent Movies, Thrillers', 'Documentaries, Dramas',\n",
       "       'Action & Adventure, Sports Movies',\n",
       "       'Dramas, International Movies, Sci-Fi & Fantasy',\n",
       "       'Comedies, Independent Movies, Romantic Movies',\n",
       "       'Horror Movies, Romantic Movies, Sci-Fi & Fantasy',\n",
       "       'International TV Shows, Stand-Up Comedy & Talk Shows',\n",
       "       'Action & Adventure, Anime Features, Horror Movies',\n",
       "       'Cult Movies, Dramas, Music & Musicals', 'TV Dramas, TV Thrillers',\n",
       "       'Crime TV Shows, International TV Shows, Korean TV Shows',\n",
       "       'TV Horror, TV Mysteries, TV Thrillers',\n",
       "       'Comedies, Horror Movies, International Movies',\n",
       "       'Crime TV Shows, Docuseries, TV Mysteries',\n",
       "       'Comedies, International Movies, Sports Movies',\n",
       "       'Classic Movies, Music & Musicals',\n",
       "       'Reality TV, TV Comedies, TV Horror',\n",
       "       'Children & Family Movies, Faith & Spirituality, Music & Musicals',\n",
       "       'International TV Shows, Korean TV Shows, Stand-Up Comedy & Talk Shows',\n",
       "       'Dramas, Music & Musicals',\n",
       "       'Docuseries, Science & Nature TV, TV Action & Adventure',\n",
       "       \"British TV Shows, Kids' TV, TV Dramas\",\n",
       "       'International TV Shows, Korean TV Shows, Romantic TV Shows',\n",
       "       'Horror Movies, Independent Movies',\n",
       "       \"Anime Series, Kids' TV, TV Action & Adventure\",\n",
       "       'Comedies, Dramas, Music & Musicals', 'TV Horror, Teen TV Shows',\n",
       "       'Comedies, LGBTQ Movies, Thrillers',\n",
       "       'Docuseries, Reality TV, Science & Nature TV',\n",
       "       'Crime TV Shows, Spanish-Language TV Shows, TV Action & Adventure',\n",
       "       'Romantic TV Shows, Teen TV Shows', 'TV Comedies, Teen TV Shows',\n",
       "       'Romantic TV Shows, TV Dramas, Teen TV Shows',\n",
       "       'Children & Family Movies, Sci-Fi & Fantasy',\n",
       "       'Romantic TV Shows, TV Action & Adventure, TV Dramas',\n",
       "       'Comedies, International Movies, LGBTQ Movies',\n",
       "       'Dramas, Sci-Fi & Fantasy', \"Kids' TV, TV Thrillers\",\n",
       "       'TV Action & Adventure, TV Comedies, TV Sci-Fi & Fantasy',\n",
       "       'British TV Shows, Romantic TV Shows, TV Dramas',\n",
       "       'Anime Series, International TV Shows, Spanish-Language TV Shows',\n",
       "       'Docuseries, TV Comedies',\n",
       "       'Comedies, Romantic Movies, Sports Movies',\n",
       "       'TV Action & Adventure, TV Comedies, TV Dramas',\n",
       "       'Children & Family Movies, Dramas, Sports Movies',\n",
       "       'Action & Adventure, Dramas, Independent Movies',\n",
       "       'Spanish-Language TV Shows, TV Dramas', 'Dramas, LGBTQ Movies',\n",
       "       'TV Horror, TV Mysteries, TV Sci-Fi & Fantasy',\n",
       "       'Action & Adventure, Dramas, Faith & Spirituality',\n",
       "       'International TV Shows, TV Mysteries, TV Thrillers',\n",
       "       'British TV Shows, Classic & Cult TV, International TV Shows',\n",
       "       'Action & Adventure, Comedies, Independent Movies',\n",
       "       'Music & Musicals', \"British TV Shows, Kids' TV, TV Comedies\",\n",
       "       'Docuseries, Spanish-Language TV Shows',\n",
       "       'Dramas, Independent Movies, Sports Movies',\n",
       "       'TV Dramas, TV Mysteries, TV Thrillers',\n",
       "       'Comedies, LGBTQ Movies, Music & Musicals',\n",
       "       'International TV Shows, TV Action & Adventure, TV Mysteries',\n",
       "       \"Kids' TV, TV Comedies, Teen TV Shows\",\n",
       "       'International TV Shows, TV Dramas, TV Horror',\n",
       "       'Comedies, International Movies, Thrillers',\n",
       "       'Classic & Cult TV, TV Action & Adventure, TV Sci-Fi & Fantasy',\n",
       "       'International TV Shows, TV Horror, TV Mysteries',\n",
       "       'Children & Family Movies, Documentaries',\n",
       "       'Music & Musicals, Romantic Movies', 'Romantic Movies',\n",
       "       'Children & Family Movies, Classic Movies, Comedies',\n",
       "       'TV Action & Adventure, TV Dramas',\n",
       "       'Dramas, LGBTQ Movies, Romantic Movies',\n",
       "       'Children & Family Movies, Comedies, Romantic Movies',\n",
       "       'Comedies, Sports Movies', 'International Movies',\n",
       "       'International TV Shows, Romantic TV Shows, TV Mysteries',\n",
       "       'Stand-Up Comedy & Talk Shows',\n",
       "       'Action & Adventure, International Movies, Romantic Movies',\n",
       "       'Reality TV, TV Comedies',\n",
       "       'Cult Movies, Dramas, International Movies', \"Kids' TV, TV Dramas\",\n",
       "       'Crime TV Shows, International TV Shows, TV Mysteries',\n",
       "       'Action & Adventure, Sci-Fi & Fantasy, Sports Movies',\n",
       "       'TV Dramas, TV Sci-Fi & Fantasy, TV Thrillers',\n",
       "       'Romantic TV Shows, TV Dramas, TV Sci-Fi & Fantasy',\n",
       "       'Docuseries, TV Sci-Fi & Fantasy',\n",
       "       'Anime Features, International Movies',\n",
       "       \"British TV Shows, Classic & Cult TV, Kids' TV\",\n",
       "       'British TV Shows, Reality TV, Romantic TV Shows',\n",
       "       'Documentaries, Faith & Spirituality, International Movies',\n",
       "       \"Kids' TV, Reality TV, TV Dramas\", 'LGBTQ Movies, Thrillers',\n",
       "       'TV Action & Adventure, TV Mysteries, TV Sci-Fi & Fantasy',\n",
       "       'Reality TV, Science & Nature TV',\n",
       "       \"Kids' TV, TV Action & Adventure, TV Comedies\",\n",
       "       'International TV Shows, Romantic TV Shows, TV Action & Adventure',\n",
       "       'Children & Family Movies, Dramas, Independent Movies',\n",
       "       'Comedies, Music & Musicals, Romantic Movies',\n",
       "       'International TV Shows, Korean TV Shows, Reality TV',\n",
       "       'Classic & Cult TV, TV Dramas, TV Sci-Fi & Fantasy',\n",
       "       'Anime Features, Children & Family Movies',\n",
       "       'Action & Adventure, International Movies, Sci-Fi & Fantasy',\n",
       "       'Crime TV Shows, TV Action & Adventure, TV Dramas',\n",
       "       'Classic & Cult TV, TV Action & Adventure, TV Horror',\n",
       "       'International TV Shows, Korean TV Shows, TV Dramas',\n",
       "       'International TV Shows, TV Action & Adventure, TV Horror',\n",
       "       'Action & Adventure, Comedies, Romantic Movies',\n",
       "       'International TV Shows, Korean TV Shows, TV Action & Adventure',\n",
       "       \"Classic & Cult TV, Kids' TV, TV Action & Adventure\",\n",
       "       'Anime Series, International TV Shows, TV Horror',\n",
       "       'International TV Shows, Korean TV Shows, TV Horror',\n",
       "       'Children & Family Movies, Comedies, International Movies',\n",
       "       'International Movies, Sci-Fi & Fantasy',\n",
       "       'International Movies, Sci-Fi & Fantasy, Thrillers',\n",
       "       'Children & Family Movies, Dramas, Romantic Movies',\n",
       "       'Anime Series, Romantic TV Shows',\n",
       "       'Comedies, Dramas, LGBTQ Movies',\n",
       "       'British TV Shows, International TV Shows, TV Action & Adventure',\n",
       "       'Docuseries, Science & Nature TV, TV Comedies',\n",
       "       'International TV Shows, Stand-Up Comedy & Talk Shows, TV Comedies',\n",
       "       'Children & Family Movies, Dramas, Music & Musicals',\n",
       "       'Action & Adventure, Independent Movies, International Movies',\n",
       "       'Action & Adventure, Children & Family Movies, Sci-Fi & Fantasy',\n",
       "       'Horror Movies, Independent Movies, Sci-Fi & Fantasy',\n",
       "       'TV Dramas, TV Sci-Fi & Fantasy, Teen TV Shows',\n",
       "       'Anime Features, International Movies, Sci-Fi & Fantasy',\n",
       "       'Dramas, Independent Movies, Music & Musicals',\n",
       "       \"Kids' TV, TV Comedies, TV Dramas\",\n",
       "       'Children & Family Movies, Documentaries, Sports Movies',\n",
       "       'Independent Movies, Sci-Fi & Fantasy, Thrillers',\n",
       "       'Anime Features, Music & Musicals, Sci-Fi & Fantasy',\n",
       "       'TV Comedies, TV Dramas, TV Sci-Fi & Fantasy',\n",
       "       'Crime TV Shows, TV Action & Adventure',\n",
       "       'Comedies, Faith & Spirituality, Romantic Movies',\n",
       "       \"Kids' TV, TV Action & Adventure\",\n",
       "       'Action & Adventure, Independent Movies',\n",
       "       'International TV Shows, Reality TV, TV Comedies',\n",
       "       'Docuseries, Reality TV, Teen TV Shows',\n",
       "       'Crime TV Shows, International TV Shows, Reality TV',\n",
       "       'Anime Series, Teen TV Shows',\n",
       "       'Crime TV Shows, Romantic TV Shows, TV Dramas',\n",
       "       'Anime Features, Romantic Movies',\n",
       "       'Horror Movies, Sci-Fi & Fantasy, Thrillers',\n",
       "       'International TV Shows, TV Comedies, TV Sci-Fi & Fantasy',\n",
       "       'International TV Shows, Romantic TV Shows',\n",
       "       'Anime Features, Music & Musicals',\n",
       "       'Anime Features, International Movies, Romantic Movies',\n",
       "       'International TV Shows, Romantic TV Shows, Teen TV Shows',\n",
       "       'Docuseries, Stand-Up Comedy & Talk Shows',\n",
       "       'Horror Movies, Independent Movies, Thrillers',\n",
       "       'TV Action & Adventure, TV Comedies, TV Horror',\n",
       "       'Documentaries, Stand-Up Comedy',\n",
       "       \"Kids' TV, Spanish-Language TV Shows\",\n",
       "       \"British TV Shows, Kids' TV, TV Thrillers\",\n",
       "       \"Kids' TV, TV Action & Adventure, TV Dramas\",\n",
       "       'Anime Series, Crime TV Shows',\n",
       "       'Dramas, Sci-Fi & Fantasy, Thrillers',\n",
       "       'TV Comedies, TV Dramas, TV Horror',\n",
       "       'Children & Family Movies, Comedies, LGBTQ Movies',\n",
       "       'International TV Shows, TV Action & Adventure, TV Sci-Fi & Fantasy',\n",
       "       'Docuseries, TV Dramas',\n",
       "       'Horror Movies, International Movies, Romantic Movies',\n",
       "       'Crime TV Shows, Docuseries, Science & Nature TV',\n",
       "       'International Movies, Music & Musicals, Thrillers',\n",
       "       \"Kids' TV, Spanish-Language TV Shows, Teen TV Shows\",\n",
       "       'Comedies, Horror Movies, Independent Movies',\n",
       "       'Action & Adventure, International Movies, Sports Movies',\n",
       "       'Action & Adventure, Independent Movies, Sci-Fi & Fantasy',\n",
       "       'Horror Movies, LGBTQ Movies, Music & Musicals',\n",
       "       'Comedies, Music & Musicals, Sports Movies',\n",
       "       'TV Horror, TV Mysteries, Teen TV Shows',\n",
       "       'Romantic TV Shows, TV Comedies',\n",
       "       \"Kids' TV, Reality TV, Science & Nature TV\",\n",
       "       'International Movies, Romantic Movies, Sci-Fi & Fantasy',\n",
       "       'TV Comedies, TV Horror, TV Thrillers', 'TV Action & Adventure',\n",
       "       'International TV Shows, Spanish-Language TV Shows, TV Horror',\n",
       "       'Crime TV Shows, TV Action & Adventure, TV Thrillers',\n",
       "       'Music & Musicals, Stand-Up Comedy',\n",
       "       'British TV Shows, TV Comedies',\n",
       "       'TV Comedies, TV Sci-Fi & Fantasy, Teen TV Shows',\n",
       "       'TV Comedies, TV Sci-Fi & Fantasy',\n",
       "       'Romantic TV Shows, Spanish-Language TV Shows, TV Comedies',\n",
       "       'Crime TV Shows, International TV Shows, TV Sci-Fi & Fantasy',\n",
       "       'British TV Shows, International TV Shows, Romantic TV Shows',\n",
       "       \"Crime TV Shows, Kids' TV\",\n",
       "       'Horror Movies, International Movies, Sci-Fi & Fantasy',\n",
       "       'TV Comedies, TV Mysteries',\n",
       "       'Cult Movies, Horror Movies, Independent Movies',\n",
       "       'British TV Shows, Docuseries, TV Comedies',\n",
       "       'Comedies, Documentaries',\n",
       "       'Reality TV, Science & Nature TV, TV Action & Adventure',\n",
       "       'TV Comedies, TV Dramas, TV Mysteries',\n",
       "       'Crime TV Shows, TV Comedies, Teen TV Shows',\n",
       "       \"Docuseries, Kids' TV, Science & Nature TV\",\n",
       "       'Reality TV, Spanish-Language TV Shows',\n",
       "       'Action & Adventure, Anime Features, Sci-Fi & Fantasy',\n",
       "       \"Crime TV Shows, Kids' TV, TV Comedies\",\n",
       "       'Dramas, Faith & Spirituality, Independent Movies',\n",
       "       'Documentaries, Faith & Spirituality',\n",
       "       'British TV Shows, International TV Shows, Stand-Up Comedy & Talk Shows',\n",
       "       'Comedies, Dramas, Faith & Spirituality',\n",
       "       'Classic & Cult TV, TV Comedies',\n",
       "       'Dramas, Romantic Movies, Sports Movies',\n",
       "       'Stand-Up Comedy & Talk Shows, TV Mysteries, TV Sci-Fi & Fantasy',\n",
       "       'TV Sci-Fi & Fantasy, TV Thrillers',\n",
       "       'Comedies, Independent Movies, Music & Musicals',\n",
       "       'Comedies, Cult Movies, Independent Movies',\n",
       "       'Documentaries, Dramas, International Movies',\n",
       "       'British TV Shows, TV Horror, TV Thrillers',\n",
       "       'British TV Shows, Docuseries, Science & Nature TV',\n",
       "       'Children & Family Movies, Comedies, Cult Movies', 'Sports Movies',\n",
       "       'Sci-Fi & Fantasy', 'Comedies, LGBTQ Movies',\n",
       "       'Comedies, Independent Movies, Thrillers',\n",
       "       'Classic Movies, Cult Movies, Dramas',\n",
       "       'British TV Shows, TV Comedies, TV Dramas',\n",
       "       'Action & Adventure, Children & Family Movies, Independent Movies',\n",
       "       'Action & Adventure, Documentaries, International Movies',\n",
       "       'Children & Family Movies, Independent Movies',\n",
       "       'Comedies, Cult Movies, Dramas',\n",
       "       'International TV Shows, TV Horror, TV Thrillers',\n",
       "       'Classic Movies, Thrillers',\n",
       "       'Crime TV Shows, TV Dramas, TV Horror',\n",
       "       'British TV Shows, Docuseries, Reality TV',\n",
       "       'Documentaries, LGBTQ Movies, Music & Musicals',\n",
       "       'Classic Movies, Dramas, Romantic Movies',\n",
       "       'Crime TV Shows, Romantic TV Shows, Spanish-Language TV Shows',\n",
       "       'Classic Movies, Cult Movies, Horror Movies',\n",
       "       'Anime Series, Crime TV Shows, TV Thrillers',\n",
       "       'Children & Family Movies, Classic Movies',\n",
       "       'Classic Movies, Comedies, International Movies',\n",
       "       'Comedies, Sci-Fi & Fantasy',\n",
       "       'Action & Adventure, Cult Movies, Dramas',\n",
       "       'Documentaries, Faith & Spirituality, Music & Musicals',\n",
       "       'British TV Shows, Classic & Cult TV, TV Comedies',\n",
       "       'International Movies, Sports Movies', 'International TV Shows',\n",
       "       \"Classic & Cult TV, Kids' TV, Spanish-Language TV Shows\",\n",
       "       'Romantic TV Shows, Spanish-Language TV Shows, TV Dramas',\n",
       "       'Children & Family Movies, Comedies, Faith & Spirituality',\n",
       "       'British TV Shows, Crime TV Shows, TV Dramas',\n",
       "       'Classic Movies, Dramas, Music & Musicals',\n",
       "       'Cult Movies, Horror Movies, Thrillers',\n",
       "       'Action & Adventure, Classic Movies, Sci-Fi & Fantasy',\n",
       "       'TV Action & Adventure, TV Comedies',\n",
       "       'Classic Movies, Comedies, Music & Musicals', 'Independent Movies',\n",
       "       'Documentaries, Horror Movies',\n",
       "       'Classic & Cult TV, TV Horror, TV Mysteries',\n",
       "       'Comedies, Faith & Spirituality, International Movies',\n",
       "       'Dramas, Horror Movies, Sci-Fi & Fantasy',\n",
       "       'British TV Shows, TV Dramas, TV Sci-Fi & Fantasy',\n",
       "       'Comedies, Cult Movies, Horror Movies',\n",
       "       'Comedies, Cult Movies, Sports Movies',\n",
       "       'Classic Movies, Documentaries',\n",
       "       'Action & Adventure, Faith & Spirituality, Sci-Fi & Fantasy',\n",
       "       'Action & Adventure, Children & Family Movies',\n",
       "       'International TV Shows, Reality TV, TV Action & Adventure',\n",
       "       'Docuseries, Science & Nature TV, TV Dramas', 'Anime Features',\n",
       "       'Action & Adventure, Horror Movies, Independent Movies',\n",
       "       'Action & Adventure, Classic Movies, International Movies',\n",
       "       'Cult Movies, Independent Movies, Thrillers',\n",
       "       'Crime TV Shows, TV Comedies',\n",
       "       'Classic Movies, Cult Movies, Documentaries',\n",
       "       \"Classic & Cult TV, Kids' TV, TV Comedies\",\n",
       "       'Classic Movies, Dramas, LGBTQ Movies',\n",
       "       'Classic Movies, Dramas, Sports Movies',\n",
       "       'Action & Adventure, Cult Movies',\n",
       "       'Action & Adventure, Comedies, Music & Musicals',\n",
       "       'Classic Movies, Horror Movies, Thrillers',\n",
       "       'Classic Movies, Comedies, Independent Movies',\n",
       "       'Children & Family Movies, Classic Movies, Dramas',\n",
       "       'Dramas, Faith & Spirituality, Sports Movies',\n",
       "       'Classic Movies, Comedies, Romantic Movies',\n",
       "       'Dramas, Horror Movies, Music & Musicals',\n",
       "       'Classic Movies, Independent Movies, Thrillers',\n",
       "       'Children & Family Movies, Faith & Spirituality',\n",
       "       'Classic Movies, Comedies, Sports Movies',\n",
       "       'Comedies, Dramas, Sports Movies',\n",
       "       'Action & Adventure, Romantic Movies, Sci-Fi & Fantasy',\n",
       "       'Classic & Cult TV, TV Sci-Fi & Fantasy',\n",
       "       'Comedies, Cult Movies, LGBTQ Movies',\n",
       "       'Comedies, Horror Movies, Sci-Fi & Fantasy',\n",
       "       'Action & Adventure, Comedies, Horror Movies',\n",
       "       'Classic & Cult TV, Crime TV Shows, TV Dramas',\n",
       "       'Action & Adventure, Documentaries, Sports Movies',\n",
       "       'International Movies, LGBTQ Movies, Romantic Movies',\n",
       "       'Cult Movies, Dramas, Thrillers'], dtype=object)"
      ]
     },
     "execution_count": 16,
     "metadata": {},
     "output_type": "execute_result"
    }
   ],
   "source": [
    "data['listed_in'].unique()"
   ]
  },
  {
   "cell_type": "code",
   "execution_count": 17,
   "id": "a3fd484e",
   "metadata": {},
   "outputs": [
    {
     "data": {
      "text/html": [
       "<div>\n",
       "<style scoped>\n",
       "    .dataframe tbody tr th:only-of-type {\n",
       "        vertical-align: middle;\n",
       "    }\n",
       "\n",
       "    .dataframe tbody tr th {\n",
       "        vertical-align: top;\n",
       "    }\n",
       "\n",
       "    .dataframe thead th {\n",
       "        text-align: right;\n",
       "    }\n",
       "</style>\n",
       "<table border=\"1\" class=\"dataframe\">\n",
       "  <thead>\n",
       "    <tr style=\"text-align: right;\">\n",
       "      <th></th>\n",
       "      <th>type</th>\n",
       "      <th>listed_in</th>\n",
       "    </tr>\n",
       "  </thead>\n",
       "  <tbody>\n",
       "    <tr>\n",
       "      <th>0</th>\n",
       "      <td>Movie</td>\n",
       "      <td>Documentaries</td>\n",
       "    </tr>\n",
       "    <tr>\n",
       "      <th>1</th>\n",
       "      <td>TV Show</td>\n",
       "      <td>International TV Shows, TV Dramas, TV Mysteries</td>\n",
       "    </tr>\n",
       "    <tr>\n",
       "      <th>2</th>\n",
       "      <td>TV Show</td>\n",
       "      <td>Crime TV Shows, International TV Shows, TV Act...</td>\n",
       "    </tr>\n",
       "    <tr>\n",
       "      <th>3</th>\n",
       "      <td>TV Show</td>\n",
       "      <td>Docuseries, Reality TV</td>\n",
       "    </tr>\n",
       "    <tr>\n",
       "      <th>4</th>\n",
       "      <td>TV Show</td>\n",
       "      <td>International TV Shows, Romantic TV Shows, TV ...</td>\n",
       "    </tr>\n",
       "  </tbody>\n",
       "</table>\n",
       "</div>"
      ],
      "text/plain": [
       "      type                                          listed_in\n",
       "0    Movie                                      Documentaries\n",
       "1  TV Show    International TV Shows, TV Dramas, TV Mysteries\n",
       "2  TV Show  Crime TV Shows, International TV Shows, TV Act...\n",
       "3  TV Show                             Docuseries, Reality TV\n",
       "4  TV Show  International TV Shows, Romantic TV Shows, TV ..."
      ]
     },
     "execution_count": 17,
     "metadata": {},
     "output_type": "execute_result"
    }
   ],
   "source": [
    "types=data[['type','listed_in']]\n",
    "types.head()"
   ]
  },
  {
   "cell_type": "code",
   "execution_count": 18,
   "id": "e7cf2e3f",
   "metadata": {},
   "outputs": [
    {
     "data": {
      "text/html": [
       "<div>\n",
       "<style scoped>\n",
       "    .dataframe tbody tr th:only-of-type {\n",
       "        vertical-align: middle;\n",
       "    }\n",
       "\n",
       "    .dataframe tbody tr th {\n",
       "        vertical-align: top;\n",
       "    }\n",
       "\n",
       "    .dataframe thead th {\n",
       "        text-align: right;\n",
       "    }\n",
       "</style>\n",
       "<table border=\"1\" class=\"dataframe\">\n",
       "  <thead>\n",
       "    <tr style=\"text-align: right;\">\n",
       "      <th></th>\n",
       "      <th>type</th>\n",
       "      <th>listed_in</th>\n",
       "    </tr>\n",
       "  </thead>\n",
       "  <tbody>\n",
       "    <tr>\n",
       "      <th>0</th>\n",
       "      <td>Movie</td>\n",
       "      <td>Documentaries</td>\n",
       "    </tr>\n",
       "    <tr>\n",
       "      <th>6</th>\n",
       "      <td>Movie</td>\n",
       "      <td>Children &amp; Family Movies</td>\n",
       "    </tr>\n",
       "    <tr>\n",
       "      <th>7</th>\n",
       "      <td>Movie</td>\n",
       "      <td>Dramas, Independent Movies, International Movies</td>\n",
       "    </tr>\n",
       "    <tr>\n",
       "      <th>9</th>\n",
       "      <td>Movie</td>\n",
       "      <td>Comedies, Dramas</td>\n",
       "    </tr>\n",
       "    <tr>\n",
       "      <th>12</th>\n",
       "      <td>Movie</td>\n",
       "      <td>Dramas, International Movies</td>\n",
       "    </tr>\n",
       "  </tbody>\n",
       "</table>\n",
       "</div>"
      ],
      "text/plain": [
       "     type                                         listed_in\n",
       "0   Movie                                     Documentaries\n",
       "6   Movie                          Children & Family Movies\n",
       "7   Movie  Dramas, Independent Movies, International Movies\n",
       "9   Movie                                  Comedies, Dramas\n",
       "12  Movie                      Dramas, International Movies"
      ]
     },
     "execution_count": 18,
     "metadata": {},
     "output_type": "execute_result"
    }
   ],
   "source": [
    "movies=types[types['type']=='Movie']\n",
    "movies.head()"
   ]
  },
  {
   "cell_type": "code",
   "execution_count": 19,
   "id": "8d6051f2",
   "metadata": {},
   "outputs": [
    {
     "data": {
      "text/plain": [
       "listed_in\n",
       "Dramas, International Movies                        362\n",
       "Documentaries                                       359\n",
       "Stand-Up Comedy                                     334\n",
       "Comedies, Dramas, International Movies              274\n",
       "Dramas, Independent Movies, International Movies    252\n",
       "                                                   ... \n",
       "Sci-Fi & Fantasy                                      1\n",
       "Sports Movies                                         1\n",
       "Children & Family Movies, Comedies, Cult Movies       1\n",
       "Cult Movies, Dramas, Music & Musicals                 1\n",
       "Cult Movies, Dramas, Thrillers                        1\n",
       "Name: count, Length: 278, dtype: int64"
      ]
     },
     "execution_count": 19,
     "metadata": {},
     "output_type": "execute_result"
    }
   ],
   "source": [
    "movies['listed_in'].value_counts()"
   ]
  },
  {
   "cell_type": "code",
   "execution_count": 20,
   "id": "98b2da18",
   "metadata": {},
   "outputs": [],
   "source": [
    "top=movies['listed_in'].value_counts().head().index\n",
    "\n",
    "filtered_movies = movies[movies['listed_in'].isin(top)]\n",
    "\n",
    "# in this i taken onlt top 5 becuase listed_in values are so many and big in graphs aslo it is difficult to view"
   ]
  },
  {
   "cell_type": "code",
   "execution_count": 21,
   "id": "f023de31",
   "metadata": {
    "scrolled": true
   },
   "outputs": [
    {
     "data": {
      "text/plain": [
       "Text(0.5, 1.0, 'Top Genre in Movies')"
      ]
     },
     "execution_count": 21,
     "metadata": {},
     "output_type": "execute_result"
    },
    {
     "data": {
      "image/png": "[encoded data removed]",
      "text/plain": [
       "<Figure size 1500x500 with 1 Axes>"
      ]
     },
     "metadata": {},
     "output_type": "display_data"
    }
   ],
   "source": [
    "plt.figure(figsize=(15,5))\n",
    "sns.countplot(data=filtered_movies,x='listed_in',order=top,hue='listed_in',orient='y')\n",
    "plt.title(\"Top Genre in Movies\")"
   ]
  },
  {
   "cell_type": "code",
   "execution_count": 22,
   "id": "16d33afc",
   "metadata": {},
   "outputs": [
    {
     "data": {
      "text/html": [
       "<div>\n",
       "<style scoped>\n",
       "    .dataframe tbody tr th:only-of-type {\n",
       "        vertical-align: middle;\n",
       "    }\n",
       "\n",
       "    .dataframe tbody tr th {\n",
       "        vertical-align: top;\n",
       "    }\n",
       "\n",
       "    .dataframe thead th {\n",
       "        text-align: right;\n",
       "    }\n",
       "</style>\n",
       "<table border=\"1\" class=\"dataframe\">\n",
       "  <thead>\n",
       "    <tr style=\"text-align: right;\">\n",
       "      <th></th>\n",
       "      <th>type</th>\n",
       "      <th>listed_in</th>\n",
       "    </tr>\n",
       "  </thead>\n",
       "  <tbody>\n",
       "    <tr>\n",
       "      <th>1</th>\n",
       "      <td>TV Show</td>\n",
       "      <td>International TV Shows, TV Dramas, TV Mysteries</td>\n",
       "    </tr>\n",
       "    <tr>\n",
       "      <th>2</th>\n",
       "      <td>TV Show</td>\n",
       "      <td>Crime TV Shows, International TV Shows, TV Act...</td>\n",
       "    </tr>\n",
       "    <tr>\n",
       "      <th>3</th>\n",
       "      <td>TV Show</td>\n",
       "      <td>Docuseries, Reality TV</td>\n",
       "    </tr>\n",
       "    <tr>\n",
       "      <th>4</th>\n",
       "      <td>TV Show</td>\n",
       "      <td>International TV Shows, Romantic TV Shows, TV ...</td>\n",
       "    </tr>\n",
       "    <tr>\n",
       "      <th>5</th>\n",
       "      <td>TV Show</td>\n",
       "      <td>TV Dramas, TV Horror, TV Mysteries</td>\n",
       "    </tr>\n",
       "  </tbody>\n",
       "</table>\n",
       "</div>"
      ],
      "text/plain": [
       "      type                                          listed_in\n",
       "1  TV Show    International TV Shows, TV Dramas, TV Mysteries\n",
       "2  TV Show  Crime TV Shows, International TV Shows, TV Act...\n",
       "3  TV Show                             Docuseries, Reality TV\n",
       "4  TV Show  International TV Shows, Romantic TV Shows, TV ...\n",
       "5  TV Show                 TV Dramas, TV Horror, TV Mysteries"
      ]
     },
     "execution_count": 22,
     "metadata": {},
     "output_type": "execute_result"
    }
   ],
   "source": [
    "tv_shows=types[types['type']=='TV Show']\n",
    "tv_shows.head()"
   ]
  },
  {
   "cell_type": "code",
   "execution_count": 23,
   "id": "09afe2ba",
   "metadata": {},
   "outputs": [
    {
     "data": {
      "text/plain": [
       "listed_in\n",
       "Kids' TV                                                 220\n",
       "International TV Shows, TV Dramas                        121\n",
       "Crime TV Shows, International TV Shows, TV Dramas        110\n",
       "Kids' TV, TV Comedies                                     99\n",
       "Reality TV                                                95\n",
       "                                                        ... \n",
       "Kids' TV, TV Action & Adventure, TV Dramas                 1\n",
       "British TV Shows, Kids' TV, TV Thrillers                   1\n",
       "Reality TV, TV Horror, TV Thrillers                        1\n",
       "TV Action & Adventure, TV Horror, TV Sci-Fi & Fantasy      1\n",
       "Classic & Cult TV, Crime TV Shows, TV Dramas               1\n",
       "Name: count, Length: 236, dtype: int64"
      ]
     },
     "execution_count": 23,
     "metadata": {},
     "output_type": "execute_result"
    }
   ],
   "source": [
    "tv_shows['listed_in'].value_counts()"
   ]
  },
  {
   "cell_type": "code",
   "execution_count": 24,
   "id": "6bdfcc81",
   "metadata": {},
   "outputs": [],
   "source": [
    "tops=tv_shows['listed_in'].value_counts().head().index\n",
    "\n",
    "filtered_tv_shows =tv_shows[tv_shows['listed_in'].isin(tops)]\n",
    "\n",
    "# in this i taken onlt top 5 becuase listed_in values are so many and big in graphs aslo it is difficult to view"
   ]
  },
  {
   "cell_type": "code",
   "execution_count": 25,
   "id": "3b02bd4e",
   "metadata": {},
   "outputs": [
    {
     "data": {
      "text/plain": [
       "Text(0.5, 1.0, 'Top Genre in Tv Shows')"
      ]
     },
     "execution_count": 25,
     "metadata": {},
     "output_type": "execute_result"
    },
    {
     "data": {
      "image/png": "[encoded data removed]",
      "text/plain": [
       "<Figure size 1500x500 with 1 Axes>"
      ]
     },
     "metadata": {},
     "output_type": "display_data"
    }
   ],
   "source": [
    "plt.figure(figsize=(15,5))\n",
    "sns.countplot(data=filtered_tv_shows,x='listed_in',order=tops,hue='listed_in',orient='y')\n",
    "plt.title(\"Top Genre in Tv Shows\")"
   ]
  },
  {
   "cell_type": "code",
   "execution_count": 33,
   "id": "0e248030",
   "metadata": {},
   "outputs": [],
   "source": [
    "df=data[['type','listed_in']].value_counts().reset_index()\n",
    "df.columns = ['type', 'listed_in', 'count']\n",
    "\n",
    "df=df.head(10)\n"
   ]
  },
  {
   "cell_type": "code",
   "execution_count": 38,
   "id": "56bc159f",
   "metadata": {},
   "outputs": [
    {
     "data": {
      "text/plain": [
       "<Axes: xlabel='count', ylabel='listed_in'>"
      ]
     },
     "execution_count": 38,
     "metadata": {},
     "output_type": "execute_result"
    },
    {
     "data": {
      "image/png": "[encoded data removed]",
      "text/plain": [
       "<Figure size 1500x500 with 1 Axes>"
      ]
     },
     "metadata": {},
     "output_type": "display_data"
    }
   ],
   "source": [
    "plt.figure(figsize=(15,5))\n",
    "sns.barplot(data=df,x='count',y='listed_in',hue='type',orient='h')"
   ]
  },
  {
   "cell_type": "markdown",
   "id": "cd4e2b9f",
   "metadata": {},
   "source": [
    "# 2) What is the distribution of content types (e.g., Movies vs. TV Shows) in the dataset?"
   ]
  },
  {
   "cell_type": "code",
   "execution_count": 27,
   "id": "eda00a34",
   "metadata": {
    "scrolled": true
   },
   "outputs": [
    {
     "data": {
      "image/png": "[encoded data removed]",
      "text/plain": [
       "<Figure size 640x480 with 1 Axes>"
      ]
     },
     "metadata": {},
     "output_type": "display_data"
    }
   ],
   "source": [
    "type_counts = data['type'].value_counts()\n",
    "explode=[0.2,0.1]\n",
    "\n",
    "plt.pie(type_counts, labels=type_counts.index, autopct='%1.1f%%', startangle=90,\n",
    "       shadow=True,explode=explode)\n",
    "plt.title('Distribution of Content Types')\n",
    "plt.show()"
   ]
  },
  {
   "cell_type": "markdown",
   "id": "f7e7e49e",
   "metadata": {},
   "source": [
    "# 3) Which countries contribute the most to the content library?"
   ]
  },
  {
   "cell_type": "code",
   "execution_count": 28,
   "id": "71dee37b",
   "metadata": {},
   "outputs": [
    {
     "data": {
      "text/html": [
       "<div>\n",
       "<style scoped>\n",
       "    .dataframe tbody tr th:only-of-type {\n",
       "        vertical-align: middle;\n",
       "    }\n",
       "\n",
       "    .dataframe tbody tr th {\n",
       "        vertical-align: top;\n",
       "    }\n",
       "\n",
       "    .dataframe thead th {\n",
       "        text-align: right;\n",
       "    }\n",
       "</style>\n",
       "<table border=\"1\" class=\"dataframe\">\n",
       "  <thead>\n",
       "    <tr style=\"text-align: right;\">\n",
       "      <th></th>\n",
       "      <th>show_id</th>\n",
       "      <th>type</th>\n",
       "      <th>title</th>\n",
       "      <th>director</th>\n",
       "      <th>cast</th>\n",
       "      <th>country</th>\n",
       "      <th>date_added</th>\n",
       "      <th>release_year</th>\n",
       "      <th>rating</th>\n",
       "      <th>duration</th>\n",
       "      <th>listed_in</th>\n",
       "      <th>description</th>\n",
       "    </tr>\n",
       "  </thead>\n",
       "  <tbody>\n",
       "    <tr>\n",
       "      <th>0</th>\n",
       "      <td>s1</td>\n",
       "      <td>Movie</td>\n",
       "      <td>Dick Johnson Is Dead</td>\n",
       "      <td>Kirsten Johnson</td>\n",
       "      <td>David Attenborough</td>\n",
       "      <td>United States</td>\n",
       "      <td>2021-09-25</td>\n",
       "      <td>2020</td>\n",
       "      <td>PG-13</td>\n",
       "      <td>90 min</td>\n",
       "      <td>Documentaries</td>\n",
       "      <td>As her father nears the end of his life, filmm...</td>\n",
       "    </tr>\n",
       "  </tbody>\n",
       "</table>\n",
       "</div>"
      ],
      "text/plain": [
       "  show_id   type                 title         director                cast  \\\n",
       "0      s1  Movie  Dick Johnson Is Dead  Kirsten Johnson  David Attenborough   \n",
       "\n",
       "         country date_added  release_year rating duration      listed_in  \\\n",
       "0  United States 2021-09-25          2020  PG-13   90 min  Documentaries   \n",
       "\n",
       "                                         description  \n",
       "0  As her father nears the end of his life, filmm...  "
      ]
     },
     "execution_count": 28,
     "metadata": {},
     "output_type": "execute_result"
    }
   ],
   "source": [
    "data.head(1)"
   ]
  },
  {
   "cell_type": "code",
   "execution_count": 29,
   "id": "e93519be",
   "metadata": {},
   "outputs": [
    {
     "data": {
      "text/html": [
       "<div>\n",
       "<style scoped>\n",
       "    .dataframe tbody tr th:only-of-type {\n",
       "        vertical-align: middle;\n",
       "    }\n",
       "\n",
       "    .dataframe tbody tr th {\n",
       "        vertical-align: top;\n",
       "    }\n",
       "\n",
       "    .dataframe thead th {\n",
       "        text-align: right;\n",
       "    }\n",
       "</style>\n",
       "<table border=\"1\" class=\"dataframe\">\n",
       "  <thead>\n",
       "    <tr style=\"text-align: right;\">\n",
       "      <th></th>\n",
       "      <th>type</th>\n",
       "      <th>country</th>\n",
       "    </tr>\n",
       "  </thead>\n",
       "  <tbody>\n",
       "    <tr>\n",
       "      <th>0</th>\n",
       "      <td>Movie</td>\n",
       "      <td>United States</td>\n",
       "    </tr>\n",
       "    <tr>\n",
       "      <th>1</th>\n",
       "      <td>TV Show</td>\n",
       "      <td>South Africa</td>\n",
       "    </tr>\n",
       "    <tr>\n",
       "      <th>2</th>\n",
       "      <td>TV Show</td>\n",
       "      <td>United States</td>\n",
       "    </tr>\n",
       "    <tr>\n",
       "      <th>3</th>\n",
       "      <td>TV Show</td>\n",
       "      <td>United States</td>\n",
       "    </tr>\n",
       "    <tr>\n",
       "      <th>4</th>\n",
       "      <td>TV Show</td>\n",
       "      <td>India</td>\n",
       "    </tr>\n",
       "  </tbody>\n",
       "</table>\n",
       "</div>"
      ],
      "text/plain": [
       "      type        country\n",
       "0    Movie  United States\n",
       "1  TV Show   South Africa\n",
       "2  TV Show  United States\n",
       "3  TV Show  United States\n",
       "4  TV Show          India"
      ]
     },
     "execution_count": 29,
     "metadata": {},
     "output_type": "execute_result"
    }
   ],
   "source": [
    "top_country=data[['type','country']]\n",
    "top_country.head()"
   ]
  },
  {
   "cell_type": "code",
   "execution_count": 30,
   "id": "c40253ba",
   "metadata": {},
   "outputs": [
    {
     "data": {
      "text/plain": [
       "country\n",
       "United States                             3649\n",
       "India                                      972\n",
       "United Kingdom                             419\n",
       "Japan                                      245\n",
       "South Korea                                199\n",
       "                                          ... \n",
       "Romania, Bulgaria, Hungary                   1\n",
       "Uruguay, Guatemala                           1\n",
       "France, Senegal, Belgium                     1\n",
       "Mexico, United States, Spain, Colombia       1\n",
       "United Arab Emirates, Jordan                 1\n",
       "Name: count, Length: 748, dtype: int64"
      ]
     },
     "execution_count": 30,
     "metadata": {},
     "output_type": "execute_result"
    }
   ],
   "source": [
    "top_country['country'].value_counts()"
   ]
  },
  {
   "cell_type": "code",
   "execution_count": 31,
   "id": "e99229af",
   "metadata": {},
   "outputs": [],
   "source": [
    "top_country1 = top_country['country'].value_counts().head(5).index\n",
    "\n",
    "filtered_top_country = top_country[top_country['country'].isin(top_country1)]"
   ]
  },
  {
   "cell_type": "code",
   "execution_count": 32,
   "id": "2e2268aa",
   "metadata": {},
   "outputs": [
    {
     "data": {
      "text/plain": [
       "Text(0.5, 1.0, 'Contributes the most content library')"
      ]
     },
     "execution_count": 32,
     "metadata": {},
     "output_type": "execute_result"
    },
    {
     "data": {
      "image/png": "[encoded data removed]",
      "text/plain": [
       "<Figure size 1500x500 with 1 Axes>"
      ]
     },
     "metadata": {},
     "output_type": "display_data"
    }
   ],
   "source": [
    "plt.figure(figsize=(15,5))\n",
    "sns.countplot(data=filtered_top_country,x='country',order=top_country1,hue='country',orient='y')\n",
    "plt.title(\"Contributes the most content library\")"
   ]
  },
  {
   "cell_type": "markdown",
   "id": "7c0a25c6",
   "metadata": {},
   "source": [
    "# 5) What are the most common ratings, and how are they distributed across different types of content?"
   ]
  },
  {
   "cell_type": "code",
   "execution_count": 33,
   "id": "4eba4046",
   "metadata": {},
   "outputs": [
    {
     "data": {
      "text/plain": [
       "rating\n",
       "TV-MA       3211\n",
       "TV-14       2160\n",
       "TV-PG        863\n",
       "R            799\n",
       "PG-13        490\n",
       "TV-Y7        334\n",
       "TV-Y         307\n",
       "PG           287\n",
       "TV-G         220\n",
       "NR            80\n",
       "G             41\n",
       "TV-Y7-FV       6\n",
       "NC-17          3\n",
       "UR             3\n",
       "74 min         1\n",
       "84 min         1\n",
       "66 min         1\n",
       "Name: count, dtype: int64"
      ]
     },
     "execution_count": 33,
     "metadata": {},
     "output_type": "execute_result"
    }
   ],
   "source": [
    "data['rating'].value_counts()"
   ]
  },
  {
   "cell_type": "code",
   "execution_count": 36,
   "id": "1762555b",
   "metadata": {},
   "outputs": [
    {
     "data": {
      "text/plain": [
       "Text(0.5, 1.0, 'Most Common ratings given to Movies or Tv Shows')"
      ]
     },
     "execution_count": 36,
     "metadata": {},
     "output_type": "execute_result"
    },
    {
     "data": {
      "image/png": "[encoded data removed]",
      "text/plain": [
       "<Figure size 1200x500 with 1 Axes>"
      ]
     },
     "metadata": {},
     "output_type": "display_data"
    }
   ],
   "source": [
    "plt.figure(figsize=(12,5))\n",
    "sns.countplot(data=data,x='rating',hue='rating')\n",
    "plt.title(\"Most Common ratings given to Movies or Tv Shows\")"
   ]
  },
  {
   "cell_type": "code",
   "execution_count": null,
   "id": "0204f32f",
   "metadata": {},
   "outputs": [],
   "source": []
  }
 ],
 "metadata": {
  "kernelspec": {
   "display_name": "Python 3 (ipykernel)",
   "language": "python",
   "name": "python3"
  },
  "language_info": {
   "codemirror_mode": {
    "name": "ipython",
    "version": 3
   },
   "file_extension": ".py",
   "mimetype": "text/x-python",
   "name": "python",
   "nbconvert_exporter": "python",
   "pygments_lexer": "ipython3",
   "version": "3.11.7"
  }
 },
 "nbformat": 4,
 "nbformat_minor": 5
}
